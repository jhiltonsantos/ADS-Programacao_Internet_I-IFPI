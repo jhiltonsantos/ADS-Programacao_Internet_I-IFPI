{
  "nbformat": 4,
  "nbformat_minor": 0,
  "metadata": {
    "colab": {
      "name": "buscador.ipynb",
      "provenance": [],
      "toc_visible": true,
      "authorship_tag": "ABX9TyPsaVAix0woGfol4co82qgU",
      "include_colab_link": true
    },
    "kernelspec": {
      "name": "python3",
      "display_name": "Python 3"
    }
  },
  "cells": [
    {
      "cell_type": "markdown",
      "metadata": {
        "id": "view-in-github",
        "colab_type": "text"
      },
      "source": [
        "<a href=\"https://colab.research.google.com/github/jhiltonsantos/ADS-Programacao_Internet_I-IFPI/blob/master/buscador.ipynb\" target=\"_parent\"><img src=\"https://colab.research.google.com/assets/colab-badge.svg\" alt=\"Open In Colab\"/></a>"
      ]
    },
    {
      "cell_type": "code",
      "metadata": {
        "id": "lrOfv1LrYQ-1",
        "colab_type": "code",
        "colab": {}
      },
      "source": [
        "import requests\n",
        "import requests_cache\n",
        "from bs4 import BeautifulSoup\n",
        "from urllib.request import urlopen\n",
        "import sqlite3\n"
      ],
      "execution_count": 0,
      "outputs": []
    },
    {
      "cell_type": "code",
      "metadata": {
        "id": "ph-qzppxZc5Z",
        "colab_type": "code",
        "outputId": "b62718e0-e05d-4269-a25e-6b2ed34e9965",
        "colab": {
          "base_uri": "https://localhost:8080/",
          "height": 34
        }
      },
      "source": [
        "conn = sqlite3.connect('busca_cache.sqlite')\n",
        "c = conn.cursor()\n",
        "  \n",
        "try:\n",
        "  c.execute('''CREATE TABLE pages\n",
        "  (id text, url text, h1 text, p text''') \n",
        "  print('nova_tabela')\n",
        "except:\n",
        "  requests_cache.install_cache('passa', backend='sqlite')\n",
        "  print('conexao')\n"
      ],
      "execution_count": 34,
      "outputs": [
        {
          "output_type": "stream",
          "text": [
            "conexao\n"
          ],
          "name": "stdout"
        }
      ]
    },
    {
      "cell_type": "code",
      "metadata": {
        "id": "OEJzi_p6YWO5",
        "colab_type": "code",
        "colab": {}
      },
      "source": [
        "pages = []\n",
        "words_page = []\n"
      ],
      "execution_count": 0,
      "outputs": []
    },
    {
      "cell_type": "code",
      "metadata": {
        "id": "LuCADGqb91KJ",
        "colab_type": "code",
        "outputId": "3fb531b4-4280-48c8-803d-5c2ab139d21e",
        "colab": {
          "base_uri": "https://localhost:8080/",
          "height": 34
        }
      },
      "source": [
        "r = requests.get('http://en.wikipedia.org/wiki/Monty_Python')\n",
        "soup = BeautifulSoup(r.text, 'html.parser')\n",
        "h1 = soup.find_all('h1')\n",
        "h1"
      ],
      "execution_count": 36,
      "outputs": [
        {
          "output_type": "execute_result",
          "data": {
            "text/plain": [
              "[<h1 class=\"firstHeading\" id=\"firstHeading\" lang=\"en\">Monty Python</h1>]"
            ]
          },
          "metadata": {
            "tags": []
          },
          "execution_count": 36
        }
      ]
    },
    {
      "cell_type": "code",
      "metadata": {
        "id": "VWmaoHra8RXx",
        "colab_type": "code",
        "colab": {}
      },
      "source": [
        "# Listas para o banco\n",
        "url_bd = []\n",
        "h1 = []\n",
        "p = []"
      ],
      "execution_count": 0,
      "outputs": []
    },
    {
      "cell_type": "code",
      "metadata": {
        "id": "38gQBKpdaTuj",
        "colab_type": "code",
        "colab": {}
      },
      "source": [
        "def download_page(url):\n",
        "   response = None\n",
        "   try:\n",
        "     response = requests.get(url)\n",
        "     soup = BeautifulSoup(response.text, 'html.parser')\n",
        "     url_bd.append(url)\n",
        "     h1.append(soup.find('h1'))\n",
        "     p.append(soup.find_all('p')[2].get_text())\n",
        "   except:\n",
        "     pass\n",
        "   finally:\n",
        "     return response\n",
        "    \n"
      ],
      "execution_count": 0,
      "outputs": []
    },
    {
      "cell_type": "code",
      "metadata": {
        "id": "9JG-nUXBfBZp",
        "colab_type": "code",
        "colab": {}
      },
      "source": [
        "def format_link(url, url_or):\n",
        "  if url != None:\n",
        "    if url.startswith('http://') or url.startswith('https://'):\n",
        "      return url\n",
        "    elif url.startswith('/'):\n",
        "      return url_or + url\n",
        "    else:\n",
        "      return url"
      ],
      "execution_count": 0,
      "outputs": []
    },
    {
      "cell_type": "code",
      "metadata": {
        "id": "CqKIkiAdc9Mk",
        "colab_type": "code",
        "colab": {}
      },
      "source": [
        "def search_links(page, url, depth):\n",
        "  urls = []\n",
        "  beatiful = BeautifulSoup(page.text, 'html.parser')\n",
        "\n",
        "  links = beatiful.find_all('a')\n",
        "\n",
        "  for link in links:\n",
        "    if format_link(link.get('href'), url) != None:\n",
        "      if depth > 0:\n",
        "        urls.append(format_link(link.get('href'), url))\n",
        "\n",
        "        url = format_link(link.get('href'), url)\n",
        "        pages.append({'Url': url, 'Nivel': depth})\n",
        "  \n",
        "  return urls"
      ],
      "execution_count": 0,
      "outputs": []
    },
    {
      "cell_type": "code",
      "metadata": {
        "id": "2G6fYQ_tiozi",
        "colab_type": "code",
        "colab": {}
      },
      "source": [
        "def search_word(keyword, page):\n",
        "  text = ''\n",
        "  len_keyword = len(keyword)\n",
        "\n",
        "  beautiful = BeautifulSoup(page.text, 'html.parser')\n",
        "  page = beautiful.text\n",
        "  page = page.replace('\\n', '')\n",
        "  word = page.find(keyword)\n",
        "\n",
        "  if word < 0:\n",
        "    text = None\n",
        "  else:\n",
        "    if ((page[(word - 10)] == ' ') or (page[(word - 10)] == '\\n')):\n",
        "      text = page[(word):(word+len_keyword)+40]\n",
        "    else:\n",
        "      text = page[(word-20) : (word + len_keyword)+20]\n",
        "  \n",
        "  return text\n"
      ],
      "execution_count": 0,
      "outputs": []
    },
    {
      "cell_type": "code",
      "metadata": {
        "id": "PoGXtzrMZ9sZ",
        "colab_type": "code",
        "colab": {}
      },
      "source": [
        "def search(keyword, url, depth):\n",
        "    page = download_page(url)\n",
        "\n",
        "    if page != None:\n",
        "      if search_word(keyword, page) != None:\n",
        "        print('LINK     --> %s' % url)\n",
        "        print('CONTEUDO --> %s' % search_word(keyword, page))\n",
        "        words_page.append(url)\n",
        "      \n",
        "      if depth > 0:\n",
        "        urls = search_links(page, url, depth)\n",
        "\n",
        "        for url in urls:\n",
        "          try:\n",
        "           search(keyword, url, depth-1)\n",
        "          except:\n",
        "           continue       "
      ],
      "execution_count": 0,
      "outputs": []
    },
    {
      "cell_type": "code",
      "metadata": {
        "id": "iIXS8MEog2Sn",
        "colab_type": "code",
        "colab": {}
      },
      "source": [
        "def display_search(keyword):\n",
        "  if len(words_page) > 0:\n",
        "    print('Busca de %s' %keyword)\n",
        "\n",
        "    for word in words_page:\n",
        "      print(word)"
      ],
      "execution_count": 0,
      "outputs": []
    },
    {
      "cell_type": "code",
      "metadata": {
        "id": "swrbRhxyHjkt",
        "colab_type": "code",
        "colab": {}
      },
      "source": [
        "add_bd = []"
      ],
      "execution_count": 0,
      "outputs": []
    },
    {
      "cell_type": "code",
      "metadata": {
        "id": "2wRterK1YZTa",
        "colab_type": "code",
        "outputId": "d67e98c2-6487-40c2-af27-628fb3673459",
        "colab": {
          "base_uri": "https://localhost:8080/",
          "height": 292
        }
      },
      "source": [
        "def main():\n",
        "  keyword = 'artists'\n",
        "  url = 'https://www.last.fm/home'\n",
        "  depth = 1\n",
        "\n",
        "  print(\"######################################\")\n",
        "  print(\"Resultado da Busca: \", keyword)\n",
        "\n",
        "  search(keyword, url, depth)\n",
        "  \n",
        "  for i in range(len(url_bd)):\n",
        "    add_bd.append(url_bd[i])\n",
        "  \n",
        "  print(add_bd)\n",
        "  \n",
        "  \n",
        "\n",
        "if __name__ == '__main__':\n",
        "  main()\n",
        "\n",
        "  \n",
        "  \n",
        "\n",
        "\n"
      ],
      "execution_count": 45,
      "outputs": [
        {
          "output_type": "stream",
          "text": [
            "######################################\n",
            "Resultado da Busca:  artists\n",
            "LINK     --> https://www.last.fm/home\n",
            "CONTEUDO --> artists{\"@context\": \"http://schema.org\", \"@type\n",
            "LINK     --> https://getsatisfaction.com/lastfm\n",
            "CONTEUDO --> artists permission and I WANT IT TAKEN DOWN NOW\n",
            "LINK     --> https://twitter.com/lastfm\n",
            "CONTEUDO --> ttp://bit.ly/2020topartistsofar … and share #ma\n",
            "LINK     --> https://www.instagram.com/last_fm\n",
            "CONTEUDO --> rd with some of the artists. (\\ud83d\\udcf8: @ri\n",
            "LINK     --> https://www.youtube.com/user/lastfm\n",
            "CONTEUDO --> artists right now.    Show moreThis item has be\n",
            "LINK     --> http://www.last.fm\n",
            "CONTEUDO --> artists{\"@context\": \"http://schema.org\", \"@type\n",
            "['https://www.last.fm/home', 'https://secure.last.fm/login?next=/settings/website', 'https://secure.last.fm/login?next=/settings/website', 'https://secure.last.fm/login', 'https://secure.last.fm/login/dashboard', 'https://secure.last.fm/login/dashboard/music', 'https://secure.last.fm/login/dashboard/music/charts', 'https://secure.last.fm/login/dashboard/music/charts/events', 'https://secure.last.fm/login/dashboard/music/charts/events/features', 'https://secure.last.fm/login/dashboard/music/charts/events/features/join', 'https://secure.last.fm/login', 'https://getsatisfaction.com/lastfm', 'https://getsatisfaction.com/lastfm/help/guidelines', 'http://cbsi.force.com/CBSi/lastfm', 'http://cbsi.force.com/CBSi/lastfm/about/trackmymusic', 'http://cbsi.force.com/CBSi/lastfm/about/trackmymusic/api', 'http://cbsi.force.com/CBSi/lastfm/about/trackmymusic/api/music/+free-music-downloads', 'https://store.last.fm', 'https://store.last.fm/join', 'https://secure.last.fm/login', 'https://secure.last.fm/login/pro', 'https://www.facebook.com/lastfm', 'https://twitter.com/lastfm', 'https://www.instagram.com/last_fm', 'https://www.youtube.com/user/lastfm', 'http://www.cbsinteractive.com/', 'http://www.cbsinteractive.com//legal/terms', 'http://www.cbsinteractive.com//legal/terms/legal/privacy', 'http://www.cbsinteractive.com//legal/terms/legal/privacy/legal', 'https://ca.privacy.cbs', 'https://ca.privacy.cbs/donotsell', 'http://www.cbsinteractive.com/careers', 'http://www.last.fm', 'http://cbsi.force.com/CBSi/template_lfmfbk?p_userid=']\n"
          ],
          "name": "stdout"
        }
      ]
    },
    {
      "cell_type": "code",
      "metadata": {
        "id": "T8-xtQCyHfct",
        "colab_type": "code",
        "colab": {
          "base_uri": "https://localhost:8080/",
          "height": 164
        },
        "outputId": "19f677b8-b2a8-498a-f07e-97e77f6b7eaa"
      },
      "source": [
        "c.executemany('INSERT INTO pages VALUES(?)', add_bd)"
      ],
      "execution_count": 46,
      "outputs": [
        {
          "output_type": "error",
          "ename": "OperationalError",
          "evalue": "ignored",
          "traceback": [
            "\u001b[0;31m---------------------------------------------------------------------------\u001b[0m",
            "\u001b[0;31mOperationalError\u001b[0m                          Traceback (most recent call last)",
            "\u001b[0;32m<ipython-input-46-a3c98104d27f>\u001b[0m in \u001b[0;36m<module>\u001b[0;34m()\u001b[0m\n\u001b[0;32m----> 1\u001b[0;31m \u001b[0mc\u001b[0m\u001b[0;34m.\u001b[0m\u001b[0mexecutemany\u001b[0m\u001b[0;34m(\u001b[0m\u001b[0;34m'INSERT INTO pages VALUES(?)'\u001b[0m\u001b[0;34m,\u001b[0m \u001b[0madd_bd\u001b[0m\u001b[0;34m)\u001b[0m\u001b[0;34m\u001b[0m\u001b[0;34m\u001b[0m\u001b[0m\n\u001b[0m",
            "\u001b[0;31mOperationalError\u001b[0m: no such table: pages"
          ]
        }
      ]
    }
  ]
}