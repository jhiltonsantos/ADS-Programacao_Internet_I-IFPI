{
 "cells": [
  {
   "cell_type": "markdown",
   "metadata": {},
   "source": [
    "# Exercícios 01"
   ]
  },
  {
   "cell_type": "markdown",
   "metadata": {},
   "source": [
    "## questão 01"
   ]
  },
  {
   "cell_type": "code",
   "execution_count": null,
   "metadata": {},
   "outputs": [],
   "source": [
    "import requests\n",
    "\n",
    "response = requests.get('http://www.ifpi.edu.br');\n",
    "print(\"Status Code: %s \\n\"  % response.status_code)\n",
    "print(\"Cabeçalhos: %s \\n\" % response.headers['Content-Type'])\n",
    "print(\"Tamanho Resposta: %s\" % len(response.content))\n",
    "print(response.text)"
   ]
  },
  {
   "cell_type": "markdown",
   "metadata": {},
   "source": [
    "## questão 02"
   ]
  },
  {
   "cell_type": "code",
   "execution_count": null,
   "metadata": {},
   "outputs": [],
   "source": [
    "import requests\n",
    "url =  'http://www.ifpi.edu.br/topo_ifpi.png'\n",
    "response = requests.get(url, stream = True);\n",
    "if response.status_code == 200:\n",
    "    with open(\"imagem.png\", 'wb') as fd:\n",
    "        for chunk in response.iter_content():\n",
    "            fd.write(chunk)\n",
    "    print(\"Download concluído...\")\n",
    "    "
   ]
  },
  {
   "cell_type": "markdown",
   "metadata": {},
   "source": [
    "## Questão 3"
   ]
  },
  {
   "cell_type": "code",
   "execution_count": 6,
   "metadata": {},
   "outputs": [
    {
     "name": "stdout",
     "output_type": "stream",
     "text": [
      "['https://stackoverflow.com/questions/6038061/regular-expression-to-find-urls-within-a-string', 'www.google.com', 'facebook.com', 'http://test.com/method?param=wasd']\n"
     ]
    }
   ],
   "source": [
    "import re\n",
    "text = \"\"\"The link of this question: https://stackoverflow.com/questions/6038061/regular-expression-to-find-urls-within-a-string\n",
    "Also there are some urls: www.google.com, facebook.com, http://test.com/method?param=wasd\n",
    "The code below catches all urls in text and returns urls in list.\"\"\"\n",
    "\n",
    "urls = re.findall('(?:(?:https?|ftp):\\/\\/)?[\\w/\\-?=%.]+\\.[\\w/\\-?=%.]+', text)\n",
    "print(urls)"
   ]
  },
  {
   "cell_type": "markdown",
   "metadata": {},
   "source": [
    "## Questão 3 - v2"
   ]
  },
  {
   "cell_type": "code",
   "execution_count": 7,
   "metadata": {},
   "outputs": [
    {
     "name": "stdout",
     "output_type": "stream",
     "text": [
      "http://www.ifpi.edu.br/home/\n",
      "http://www.ifpi.edu.br/portal_css/Sunburst%20Theme/reset-cachekey-4a3e641082064590bc523599a5646242.css\n",
      "http://www.ifpi.edu.br/portal_css/Sunburst%20Theme/base-cachekey-c662531675d2bc879db48347f93fa823.css\n",
      "http://www.ifpi.edu.br/portal_css/Sunburst%20Theme/resourceplone.app.jquerytools.dateinput-cachekey-a82fb949233cc86c9734c39405ab0958.css\n",
      "http://www.ifpi.edu.br/portal_css/Sunburst%20Theme/resourcecollection-cachekey-8306932044d61dd9bd5355046ad8ee13.css\n",
      "http://www.ifpi.edu.br/portal_css/Sunburst%20Theme/resourcebrasil.gov.agendaagenda-cachekey-078e4a0c520515074d5350a0edd20a61.css\n",
      "http://www.ifpi.edu.br/portal_css/Sunburst%20Theme/embedder-cachekey-0fb342d2dbf4f9dcf25679f02a9b35da.css\n",
      "http://www.ifpi.edu.br/portal_css/Sunburst%20Theme/resourcebrasil.gov.tilestiles-cachekey-e77d3f36d6f34f690c5eb209e1db1b14.css\n",
      "http://www.ifpi.edu.br/portal_css/Sunburst%20Theme/resourcebrasil.gov.portalcssmain-cachekey-525c83c651c49e7da1e0148656249b7e.css\n",
      "http://www.ifpi.edu.br/portal_css/Sunburst%20Theme/IEFixes-cachekey-25a9053f3a93c9b8590755e02859dc6a.css\n",
      "http://www.ifpi.edu.br/portal_css/Sunburst%20Theme/resourcebrasil.gov.portletscssmain-cachekey-84c6f81233e9b7ce52dbd9e33f374f4a.css\n",
      "http://vocab.e.gov.br/2011/03/vcge#esquema\n",
      "http://www.ifpi.edu.br/author/admin\n",
      "http://www.ifpi.edu.br\n",
      "http://www.ifpi.edu.br/RSS\n",
      "http://www.ifpi.edu.br/rss.xml\n",
      "http://www.ifpi.edu.br/atom.xml\n",
      "http://www.ifpi.edu.br/@@search\n",
      "/++theme++verde/img/favicon.ico\n",
      "/++theme++verde/img/touch_icon.png\n",
      "/++theme++verde/css/style.css\n",
      "#acontent\n",
      "#anavigation\n",
      "#SearchableText\n",
      "#afooter\n",
      "http://www.ifpi.edu.br/acessibilidade\n",
      "#\n",
      "http://www.ifpi.edu.br/mapadosite\n",
      "http://brasil.gov.br\n",
      "http://epwg.governoeletronico.gov.br/barra/atualize.html\n",
      "http://www.ifpi.edu.br\n",
      "http://facebook.com/ifpiaui\n",
      "http://instagram.com/ifpiaui\n",
      "https://twitter.com/ifpiaui\n",
      "http://youtube.com/tvifpiaui\n",
      "http://www.ifpi.edu.br/servicos/comunicacao-social\n",
      "http://www.ifpi.edu.br/servicos/suap\n",
      "http://www.ifpi.edu.br/servicos/webmail\n",
      "http://www.ifpi.edu.br/servicos/ouvidoria\n",
      "http://www.ifpi.edu.br/servicos/telefones\n",
      "http://www.ifpi.edu.br\n",
      "http://www.ifpi.edu.br\n",
      "http://www.ifpi.edu.br/campi\n",
      "http://www.ifpi.edu.br/guia-de-cursos\n",
      "http://www.ifpi.edu.br/pdi\n",
      "http://www.ifpi.edu.br/a-instituicao/reitoria\n",
      "http://www.ifpi.edu.br/a-instituicao/pro-reitorias\n",
      "http://www.ifpi.edu.br/a-instituicao/diretorias-sistemicas\n",
      "http://www.ifpi.edu.br/a-instituicao/campi\n",
      "http://www.ifpi.edu.br/a-instituicao/orgaos-colegiados\n",
      "http://www.ifpi.edu.br/a-instituicao/comissoes\n",
      "http://www.ifpi.edu.br/a-instituicao/avaliacao-institucional\n",
      "http://www.ifpi.edu.br/a-instituicao/dados-abertos\n",
      "http://selecao.ifpi.edu.br\n",
      "http://csep.ifpi.edu.br/csep/publico/index\n",
      "https://concursos.ifpi.edu.br\n",
      "https://concurso2016.ifpi.edu.br/concursos/publico/index\n",
      "http://www.ifpi.edu.br/processos-seletivos/sisu\n",
      "http://www.ifpi.edu.br/processos-seletivos/chamadas-publicas\n",
      "http://www.ifpi.edu.br/area-do-estudante/assistencia-estudantil\n",
      "http://www.ifpi.edu.br/area-do-estudante/biblioteca\n",
      "http://www.ifpi.edu.br/egressos\n",
      "http://www.ifpi.edu.br/area-do-estudante/q-academico\n",
      "http://servidor.ifpi.edu.br\n",
      "http://www.ifpi.edu.br/area-do-servidor/suap\n",
      "http://www.ifpi.edu.br/boletim-de-servico\n",
      "http://www.ifpi.edu.br/area-do-servidor/compras-viagens\n",
      "http://www.ifpi.edu.br/a-instituicao/diretorias-sistemicas/gestao-de-pessoas/digep_manualdoservidor.pdf/@@download/file/digep_manualdoservidor.pdf\n",
      "/a-instituicao/documentos/ifpi_plano_de_tramitacao.pdf\n",
      "http://www.ifpi.edu.br/area-do-servidor/psad\n",
      "http://sistemas.ifpi.edu.br/plataforma\n",
      "http://www.ifpi.edu.br/area-do-servidor/seci\n",
      "http://sifae.ifpi.edu.br\n",
      "http://www.ifpi.edu.br/area-do-servidor/sigepe\n",
      "http://www.ifpi.edu.br/area-do-servidor/geplanes\n",
      "http://www.ifpi.edu.br/acesso-a-informacao/institucional\n",
      "http://www.ifpi.edu.br/acesso-a-informacao/acoes-e-programas\n",
      "http://www.ifpi.edu.br/acesso-a-informacao/auditorias\n",
      "http://servidor.ifpi.edu.br/area-do-servidor/campanhas\n",
      "http://www.ifpi.edu.br/acesso-a-informacao/convenios\n",
      "http://www.ifpi.edu.br/acesso-a-informacao/despesas\n",
      "http://www.ifpi.edu.br/acesso-a-informacao/informacoes-classificadas\n",
      "http://www.ifpi.edu.br/licitacoes\n",
      "http://www.ifpi.edu.br/acesso-a-informacao/perguntas-frequentes\n",
      "http://www.ifpi.edu.br/acesso-a-informacao/sic\n",
      "http://www.ifpi.edu.br/acesso-a-informacao/servidores\n",
      "http://www.ifpi.edu.br/noticias/inscricoes-abertas-para-o-mestrado-em-educacao-profissional-2013-profept/view\n",
      "http://www.ifpi.edu.br/noticias/inscricoes-abertas-para-o-mestrado-em-educacao-profissional-2013-profept/view\n",
      "http://www.ifpi.edu.br/noticias/edicao-teresina-do-if-moda-reune-trabalhos-de-concludentes-do-campus-teresina-zona-sul/view\n",
      "http://www.ifpi.edu.br/noticias/edicao-teresina-do-if-moda-reune-trabalhos-de-concludentes-do-campus-teresina-zona-sul/view\n",
      "http://www.ifpi.edu.br/noticias/ifpi-divulga-lista-de-espera-do-sisu-1/view\n",
      "http://www.ifpi.edu.br/noticias/ifpi-divulga-lista-de-espera-do-sisu-1/view\n",
      "http://www.ifpi.edu.br/josedefreitas/noticias/jose-de-freitas-divulga-edital-de-seletivo-para-professor-de-agricultura\n",
      "http://www.ifpi.edu.br/josedefreitas/noticias/jose-de-freitas-divulga-edital-de-seletivo-para-professor-de-agricultura\n",
      "http://www.ifpi.edu.br/noticias/ifpi-divulga-resultado-de-transferencia-externa-e-portador-de-diploma-5\n",
      "http://www.ifpi.edu.br/noticias/ifpi-divulga-resultado-de-transferencia-externa-e-portador-de-diploma-5\n",
      "http://www.ifpi.edu.br/noticias/teresina-central-divulga-resultado-preliminar-de-chamada-publica\n",
      "http://www.ifpi.edu.br/noticias/teresina-central-divulga-resultado-preliminar-de-chamada-publica\n",
      "http://www.ifpi.edu.br/saoraimundononato/noticias/sao-raimundo-nonato-divulga-resultado-preliminar-para-cursos-tecnicos\n",
      "http://www.ifpi.edu.br/saoraimundononato/noticias/sao-raimundo-nonato-divulga-resultado-preliminar-para-cursos-tecnicos\n",
      "http://www.ifpi.edu.br/teresinacentral/noticias/teresina-central-realiza-colacao-de-grau-extemporanea-1\n",
      "http://www.ifpi.edu.br/teresinacentral/noticias/teresina-central-realiza-colacao-de-grau-extemporanea-1\n",
      "http://www.ifpi.edu.br/corrente/noticias/campus-corrente-inicia-comemoracoes-por-seus-10-anos\n",
      "http://www.ifpi.edu.br/corrente/noticias/campus-corrente-inicia-comemoracoes-por-seus-10-anos\n",
      "http://www.ifpi.edu.br/valenca/noticias/valenca-seleciona-professor-de-disciplinas-pedagogicas\n",
      "http://www.ifpi.edu.br/valenca/noticias/valenca-seleciona-professor-de-disciplinas-pedagogicas\n",
      "http://www.ifpi.edu.br/paulistana/noticias/paulistana-prorroga-inscricoes-para-cursos-tecnicos\n",
      "http://www.ifpi.edu.br/paulistana/noticias/paulistana-prorroga-inscricoes-para-cursos-tecnicos\n",
      "http://www.ifpi.edu.br/noticias/campus-valenca-divulga-edital-de-chamada-publica-1\n",
      "http://www.ifpi.edu.br/noticias/campus-valenca-divulga-edital-de-chamada-publica-1\n",
      "https://www.ifpi.edu.br/noticias/campi-divulgam-inicio-do-periodo-2020.1\n",
      "http://www.ifpi.edu.br/pdi\n",
      "http://www.ifpi.edu.br/paulistana/noticias/campus-paulistana-realiza-reuniao-com-pais-de-alunos-ingressantes\n",
      "http://www.ifpi.edu.br/noticias/inscricoes-abertas-para-o-mestrado-em-educacao-profissional-2013-profept\n",
      "http://www.ifpi.edu.br/teresinacentral/noticias/teresina-central-realiza-colacao-de-grau-extemporanea-1\n",
      "http://www.ifpi.edu.br/noticias/campus-valenca-divulga-edital-de-chamada-publica-1\n",
      "http://www.ifpi.edu.br/noticias/teresina-central-divulga-resultado-preliminar-de-chamada-publica\n",
      "http://www.ifpi.edu.br/saojoao/noticias/sao-joao-do-piaui-divulga-edital-para-bolsas-nao-remuneradas-de-monitoria-1\n",
      "http://www.ifpi.edu.br/piripiri/noticias/campus-piripiri-divulga-edital-para-bolsas-nao-remuneradas-de-monitoria\n",
      "http://www.ifpi.edu.br/corrente/noticias/campus-corrente-inicia-comemoracoes-por-seus-10-anos\n",
      "http://www.ifpi.edu.br/ultimas-noticias\n",
      "https://sites.ifpi.edu.br/vitritec\n",
      "http://www.ifpi.edu.br/videos/colecao-de-videos-para-editorias/estudantes-do-ifpi-se-destacam-em-olimpiadas-do-conhecimento\n",
      "http://www.ifpi.edu.br/videos/colecao-de-videos-para-editorias/estudantes-do-ifpi-se-destacam-em-olimpiadas-do-conhecimento/view\n",
      "http://www.ifpi.edu.br/videos/colecao-de-videos-para-editorias/boas-festas\n",
      "http://www.ifpi.edu.br/videos/colecao-de-videos-para-editorias/boas-festas/view\n",
      "http://www.ifpi.edu.br/videos/colecao-de-videos-para-editorias/aniversario-de-49-anos-da-banda-do-ifpi\n",
      "http://www.ifpi.edu.br/videos/colecao-de-videos-para-editorias/aniversario-de-49-anos-da-banda-do-ifpi/view\n",
      "http://www.ifpi.edu.br/videos/colecao-de-videos-para-editorias/confira-informacoes-em-libras-sobre-o-exame-classificatorio-2020.1\n",
      "http://www.ifpi.edu.br/videos/colecao-de-videos-para-editorias/alunos-do-mediotec-apresentam-planos-de-negocio\n",
      "http://www.ifpi.edu.br/videos/colecao-de-videos-para-editorias/alunos-do-mediotec-apresentam-planos-de-negocio/view\n",
      "http://www.ifpi.edu.br/videos/colecao-de-videos-para-editorias/historias-e-memorias-1\n",
      "http://www.ifpi.edu.br/videos/colecao-de-videos-para-editorias/tv-ifpi\n",
      "https://www.facebook.com/ifpiaui\n",
      "#\n",
      "#\n",
      "https://www.facebook.com/ifpiaui\n",
      "https://twitter.com/IFPiaui\n",
      "https://twitter.com/IFPiaui\n",
      "https://www.facebook.com/pages/Pal%C3%A1cio-do-Planalto/137381902950775?rf=154166594613961\n",
      "https://twitter.com/portalbrasil\n",
      "http://www.ifpi.edu.br/a-instituicao/reitoria/reitor/agenda-do-reitor\n",
      "http://www.ifpi.edu.br/a-instituicao/reitoria/reitor/agenda-do-reitor-em-exercicio\n",
      "http://www.ifpi.edu.br/noticias/nota-de-pesar-francisco-soares-da-silva-mestre-chiquinho\n",
      "http://www.ifpi.edu.br/notas-oficiais/notas\n",
      "/ppgem\n",
      "/mapeprof\n",
      "/profept\n",
      "/profmat\n",
      "/autenticacao\n",
      "certificacao-do-ensino-medio\n",
      "/ead\n",
      "#wrapper\n",
      "/a-instituicao\n",
      "/processos-seletivos\n",
      "/area-do-estudante\n",
      "/area-do-servidor\n",
      "/acesso-a-informacao\n",
      "http://www.ifpi.edu.br/servicos/comunicacao-social\n",
      "http://www.ifpi.edu.br/servicos/suap\n",
      "http://www.ifpi.edu.br/servicos/webmail\n",
      "http://www.ifpi.edu.br/servicos/ouvidoria\n",
      "http://www.ifpi.edu.br/servicos/telefones\n",
      "http://www.facebook.com/ifpiaui\n",
      "http://www.instagram.com/ifpiaui\n",
      "https://twitter.com/ifpiaui\n",
      "http://youtube.com/tvifpiaui\n",
      "http://www.ifpi.edu.br/rss/o-que-e\n",
      "http://www.ifpi.edu.br/acessibilidade\n",
      "http://www.ifpi.edu.br/mapadosite\n",
      "http://plone.org\n"
     ]
    }
   ],
   "source": [
    "import re\n",
    "import requests\n",
    "response = requests.get('http://www.ifpi.edu.br');\n",
    "\n",
    "urls = re.findall(r'href=[\\'\"]?([^\\'\" >]+)', response.text)\n",
    "for url in urls:\n",
    "    print(url)"
   ]
  },
  {
   "cell_type": "code",
   "execution_count": null,
   "metadata": {},
   "outputs": [],
   "source": []
  }
 ],
 "metadata": {
  "kernelspec": {
   "display_name": "Python 3",
   "language": "python",
   "name": "python3"
  },
  "language_info": {
   "codemirror_mode": {
    "name": "ipython",
    "version": 3
   },
   "file_extension": ".py",
   "mimetype": "text/x-python",
   "name": "python",
   "nbconvert_exporter": "python",
   "pygments_lexer": "ipython3",
   "version": "3.6.5"
  }
 },
 "nbformat": 4,
 "nbformat_minor": 2
}
