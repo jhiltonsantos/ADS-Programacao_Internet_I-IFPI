{
 "cells": [
  {
   "cell_type": "markdown",
   "metadata": {},
   "source": [
    "# Buscador Web Scraping"
   ]
  },
  {
   "cell_type": "markdown",
   "metadata": {},
   "source": [
    "### Bibliotecas"
   ]
  },
  {
   "cell_type": "code",
   "execution_count": 1,
   "metadata": {},
   "outputs": [],
   "source": [
    "import requests\n",
    "import requests_cache\n",
    "from bs4 import BeautifulSoup"
   ]
  },
  {
   "cell_type": "code",
   "execution_count": 2,
   "metadata": {},
   "outputs": [
    {
     "name": "stdout",
     "output_type": "stream",
     "text": [
      "<title>Welcome to Python.org</title>\n"
     ]
    }
   ],
   "source": [
    "requests_cache.install_cache('busca_cache', backend='sqlite')\n",
    "\n",
    "paginas = []\n",
    "paginas_palavra = []"
   ]
  },
  {
   "cell_type": "markdown",
   "metadata": {},
   "source": [
    "### Download por URL"
   ]
  },
  {
   "cell_type": "code",
   "execution_count": 2,
   "metadata": {},
   "outputs": [],
   "source": [
    "def downloadDaPagina(url):\n",
    "    response = None\n",
    "    try:\n",
    "        response = requests.get(url)\n",
    "    except:\n",
    "        print('######################################')\n",
    "        print('Erro na requsição da pagina')\n",
    "    finally:\n",
    "        return response"
   ]
  },
  {
   "cell_type": "markdown",
   "metadata": {},
   "source": [
    "### Função Buscar Palavra"
   ]
  },
  {
   "cell_type": "code",
   "execution_count": 5,
   "metadata": {},
   "outputs": [],
   "source": [
    "def busca_guarda_palavra(keyword, pagina):\n",
    "    texto = ''\n",
    "    tamanho_keyword = len(keyword)\n",
    "\n",
    "    soup = BeautifulSoup(pagina.text, 'html.parser')\n",
    "    page = soup.text\n",
    "    page = page.replace('\\n', '')#.replace(' ', '')\n",
    "    palavra = page.find(keyword)\n",
    "    if palavra < 0:\n",
    "        texto = None\n",
    "    else:\n",
    "        if ((page[(palavra - 10)]==' ') or (page[(palavra - 10)]=='\\n')):\n",
    "            texto = page[(palavra):(palavra+tamanho_keyword)+50]\n",
    "        else:\n",
    "            texto = page[(palavra-20):(palavra+tamanho_keyword)+40]\n",
    "    return texto"
   ]
  },
  {
   "cell_type": "markdown",
   "metadata": {},
   "source": [
    "### Função Formatar Link"
   ]
  },
  {
   "cell_type": "code",
   "execution_count": 7,
   "metadata": {},
   "outputs": [],
   "source": [
    "def formatar_link(url, url_original):\n",
    "    if url != None:\n",
    "        if url.startswith('http://') or url.startswith('https://'):\n",
    "            return url\n",
    "        elif url.startswith('/'):\n",
    "            return url_original + url\n",
    "        else:\n",
    "            return url"
   ]
  },
  {
   "cell_type": "markdown",
   "metadata": {},
   "source": [
    "### Função para Percorrer Links nas Tags <'a href'>"
   ]
  },
  {
   "cell_type": "code",
   "execution_count": 8,
   "metadata": {},
   "outputs": [],
   "source": [
    "def percorre_links(pagina, url, deth):\n",
    "    urls = []\n",
    "    soup = BeautifulSoup(pagina.text, 'html.parser')\n",
    "\n",
    "    links = soup.find_all('a')\n",
    "\n",
    "    for link in links:\n",
    "        if formatar_link(link.get('href'), url) != None:\n",
    "            if deth > 0:\n",
    "                urls.append(formatar_link(link.get('href'), url))\n",
    "\n",
    "                url = formatar_link(link.get('href'), url)\n",
    "                paginas.append({'Url': url, 'Nivel': deth})\n",
    "\n",
    "    return urls"
   ]
  },
  {
   "cell_type": "markdown",
   "metadata": {},
   "source": [
    "### Função de Busca - Percorre os links e faz a recursividade"
   ]
  },
  {
   "cell_type": "code",
   "execution_count": 9,
   "metadata": {},
   "outputs": [],
   "source": [
    "def busca(keyword, url, deth):\n",
    "    pagina = downloadDaPagina(url)\n",
    "\n",
    "    if pagina != None:\n",
    "        if busca_guarda_palavra(keyword, pagina) != None:\n",
    "            print('######################################')\n",
    "            print('Link   --> %s' % url)\n",
    "            print('Trecho --> %s' % busca_guarda_palavra(keyword, pagina))\n",
    "            paginas_palavra.append(url)\n",
    "\n",
    "        \n",
    "        if deth > 0:\n",
    "            urls = percorre_links(pagina, url, deth)\n",
    "\n",
    "            for url in urls:\n",
    "                try:\n",
    "                    busca(keyword, url, deth-1)\n",
    "                except:\n",
    "                    continue"
   ]
  },
  {
   "cell_type": "markdown",
   "metadata": {},
   "source": [
    "### Ranqueamento da Busca"
   ]
  },
  {
   "cell_type": "code",
   "execution_count": 10,
   "metadata": {},
   "outputs": [],
   "source": [
    "def ranqueia_paginas(pagina):\n",
    "    pass"
   ]
  },
  {
   "cell_type": "markdown",
   "metadata": {},
   "source": [
    "### Execução"
   ]
  },
  {
   "cell_type": "code",
   "execution_count": 11,
   "metadata": {},
   "outputs": [
    {
     "name": "stdout",
     "output_type": "stream",
     "text": "######################################\nResultado da Busca:  PIB\n######################################\nLink   --> https://www.uol.com.br/\nTrecho --> º ano de Bolsonaro, PIB cresce 1,1% e fica no patamar de 2013  \n"
    },
    {
     "ename": "NameError",
     "evalue": "name 'paginas_palavra' is not defined",
     "output_type": "error",
     "traceback": [
      "\u001b[1;31m---------------------------------------------------------------------------\u001b[0m",
      "\u001b[1;31mNameError\u001b[0m                                 Traceback (most recent call last)",
      "\u001b[1;32m<ipython-input-11-fe0dd03a1b75>\u001b[0m in \u001b[0;36m<module>\u001b[1;34m\u001b[0m\n\u001b[0;32m      9\u001b[0m \u001b[1;33m\u001b[0m\u001b[0m\n\u001b[0;32m     10\u001b[0m \u001b[1;32mif\u001b[0m \u001b[0m__name__\u001b[0m \u001b[1;33m==\u001b[0m \u001b[1;34m'__main__'\u001b[0m\u001b[1;33m:\u001b[0m\u001b[1;33m\u001b[0m\u001b[1;33m\u001b[0m\u001b[0m\n\u001b[1;32m---> 11\u001b[1;33m     \u001b[0mmain\u001b[0m\u001b[1;33m(\u001b[0m\u001b[1;33m)\u001b[0m\u001b[1;33m\u001b[0m\u001b[1;33m\u001b[0m\u001b[0m\n\u001b[0m",
      "\u001b[1;32m<ipython-input-11-fe0dd03a1b75>\u001b[0m in \u001b[0;36mmain\u001b[1;34m()\u001b[0m\n\u001b[0;32m      6\u001b[0m     \u001b[0mprint\u001b[0m\u001b[1;33m(\u001b[0m\u001b[1;34m\"######################################\"\u001b[0m\u001b[1;33m)\u001b[0m\u001b[1;33m\u001b[0m\u001b[1;33m\u001b[0m\u001b[0m\n\u001b[0;32m      7\u001b[0m     \u001b[0mprint\u001b[0m\u001b[1;33m(\u001b[0m\u001b[1;34m\"Resultado da Busca: \"\u001b[0m\u001b[1;33m,\u001b[0m \u001b[0mkeyword\u001b[0m\u001b[1;33m)\u001b[0m\u001b[1;33m\u001b[0m\u001b[1;33m\u001b[0m\u001b[0m\n\u001b[1;32m----> 8\u001b[1;33m     \u001b[0mbusca\u001b[0m\u001b[1;33m(\u001b[0m\u001b[0mkeyword\u001b[0m\u001b[1;33m,\u001b[0m \u001b[0murl\u001b[0m\u001b[1;33m,\u001b[0m \u001b[0mdeth\u001b[0m\u001b[1;33m)\u001b[0m\u001b[1;33m\u001b[0m\u001b[1;33m\u001b[0m\u001b[0m\n\u001b[0m\u001b[0;32m      9\u001b[0m \u001b[1;33m\u001b[0m\u001b[0m\n\u001b[0;32m     10\u001b[0m \u001b[1;32mif\u001b[0m \u001b[0m__name__\u001b[0m \u001b[1;33m==\u001b[0m \u001b[1;34m'__main__'\u001b[0m\u001b[1;33m:\u001b[0m\u001b[1;33m\u001b[0m\u001b[1;33m\u001b[0m\u001b[0m\n",
      "\u001b[1;32m<ipython-input-9-f9da732bc013>\u001b[0m in \u001b[0;36mbusca\u001b[1;34m(keyword, url, deth)\u001b[0m\n\u001b[0;32m      7\u001b[0m             \u001b[0mprint\u001b[0m\u001b[1;33m(\u001b[0m\u001b[1;34m'Link   --> %s'\u001b[0m \u001b[1;33m%\u001b[0m \u001b[0murl\u001b[0m\u001b[1;33m)\u001b[0m\u001b[1;33m\u001b[0m\u001b[1;33m\u001b[0m\u001b[0m\n\u001b[0;32m      8\u001b[0m             \u001b[0mprint\u001b[0m\u001b[1;33m(\u001b[0m\u001b[1;34m'Trecho --> %s'\u001b[0m \u001b[1;33m%\u001b[0m \u001b[0mbusca_guarda_palavra\u001b[0m\u001b[1;33m(\u001b[0m\u001b[0mkeyword\u001b[0m\u001b[1;33m,\u001b[0m \u001b[0mpagina\u001b[0m\u001b[1;33m)\u001b[0m\u001b[1;33m)\u001b[0m\u001b[1;33m\u001b[0m\u001b[1;33m\u001b[0m\u001b[0m\n\u001b[1;32m----> 9\u001b[1;33m             \u001b[0mpaginas_palavra\u001b[0m\u001b[1;33m.\u001b[0m\u001b[0mappend\u001b[0m\u001b[1;33m(\u001b[0m\u001b[0murl\u001b[0m\u001b[1;33m)\u001b[0m\u001b[1;33m\u001b[0m\u001b[1;33m\u001b[0m\u001b[0m\n\u001b[0m\u001b[0;32m     10\u001b[0m \u001b[1;33m\u001b[0m\u001b[0m\n\u001b[0;32m     11\u001b[0m \u001b[1;33m\u001b[0m\u001b[0m\n",
      "\u001b[1;31mNameError\u001b[0m: name 'paginas_palavra' is not defined"
     ]
    }
   ],
   "source": [
    "def main():\n",
    "    keyword = input('Buscar: ')\n",
    "    url = 'https://www.uol.com.br/'\n",
    "    deth = 1\n",
    "    \n",
    "    print(\"######################################\")\n",
    "    print(\"Resultado da Busca: \", keyword)\n",
    "    busca(keyword, url, deth)\n",
    "\n",
    "if __name__ == '__main__':\n",
    "    main()"
   ]
  },
  {
   "cell_type": "code",
   "execution_count": null,
   "metadata": {},
   "outputs": [],
   "source": []
  }
 ],
 "metadata": {
  "kernelspec": {
   "display_name": "Python 3",
   "language": "python",
   "name": "python3"
  },
  "language_info": {
   "codemirror_mode": {
    "name": "ipython",
    "version": 3
   },
   "file_extension": ".py",
   "mimetype": "text/x-python",
   "name": "python",
   "nbconvert_exporter": "python",
   "pygments_lexer": "ipython3",
   "version": "3.8.1-final"
  }
 },
 "nbformat": 4,
 "nbformat_minor": 2
}