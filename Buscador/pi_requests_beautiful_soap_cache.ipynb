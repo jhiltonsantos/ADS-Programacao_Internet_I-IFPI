{
 "cells": [
  {
   "cell_type": "markdown",
   "metadata": {},
   "source": [
    "# Requests, BeautifulSoup e requests-cache"
   ]
  },
  {
   "cell_type": "code",
   "execution_count": null,
   "metadata": {},
   "outputs": [],
   "source": []
  },
  {
   "cell_type": "code",
   "execution_count": 41,
   "metadata": {},
   "outputs": [
    {
     "name": "stdout",
     "output_type": "stream",
     "text": [
      "<html>\n",
      " <head>\n",
      " </head>\n",
      " <body>\n",
      " </body>\n",
      "</html>\n"
     ]
    }
   ],
   "source": [
    "\n",
    "html = \"<html><head><body><body></html>\"\n",
    "soup = BeautifulSoup(html, 'html5lib')\n",
    "print(soup.prettify())"
   ]
  },
  {
   "cell_type": "code",
   "execution_count": 42,
   "metadata": {},
   "outputs": [
    {
     "name": "stdout",
     "output_type": "stream",
     "text": [
      "/login\n",
      "tel:0800-761-4632\n",
      "https://help.netflix.com/support/412\n",
      "https://help.netflix.com\n",
      "/youraccount\n",
      "https://media.netflix.com/\n",
      "http://ir.netflix.com/\n",
      "https://jobs.netflix.com/jobs\n",
      "/redeem\n",
      "/gift-cards\n",
      "/watch\n",
      "https://help.netflix.com/legal/termsofuse\n",
      "https://help.netflix.com/legal/privacy\n",
      "https://help.netflix.com/legal/privacy#cookies\n",
      "https://help.netflix.com/en/node/2101\n",
      "https://help.netflix.com/contactus\n",
      "https://fast.com\n",
      "https://help.netflix.com/legal/notices\n",
      "https://www.netflix.com/br-en/browse/genre/839338\n"
     ]
    }
   ],
   "source": [
    "from bs4 import BeautifulSoup\n",
    "import requests\n",
    "response = requests.get(\"http://www.netflix.com\")\n",
    "soup = BeautifulSoup(response.text, 'html5lib')\n",
    "links = soup.find_all('a')\n",
    "for link in links:\n",
    "   print(link['href'])\n"
   ]
  },
  {
   "cell_type": "code",
   "execution_count": null,
   "metadata": {},
   "outputs": [],
   "source": [
    "print(soup.prettify())"
   ]
  },
  {
   "cell_type": "code",
   "execution_count": 51,
   "metadata": {},
   "outputs": [
    {
     "name": "stdout",
     "output_type": "stream",
     "text": [
      "0\n",
      "1\n",
      "2\n"
     ]
    }
   ],
   "source": [
    "import requests\n",
    "import requests_cache as rc\n",
    "\n",
    "rc.install_cache('demo_cache')\n",
    "#rc.clear()\n",
    "\n",
    "for i in range(3):\n",
    "    response = requests.get(\"http://httpbin.org/delay/\"+str(i))\n",
    "    print(i)"
   ]
  },
  {
   "cell_type": "code",
   "execution_count": null,
   "metadata": {},
   "outputs": [],
   "source": []
  }
 ],
 "metadata": {
  "kernelspec": {
   "display_name": "Python 3",
   "language": "python",
   "name": "python3"
  },
  "language_info": {
   "codemirror_mode": {
    "name": "ipython",
    "version": 3
   },
   "file_extension": ".py",
   "mimetype": "text/x-python",
   "name": "python",
   "nbconvert_exporter": "python",
   "pygments_lexer": "ipython3",
   "version": "3.6.5"
  }
 },
 "nbformat": 4,
 "nbformat_minor": 2
}
